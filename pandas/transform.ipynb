{
 "metadata": {
  "language_info": {
   "codemirror_mode": {
    "name": "ipython",
    "version": 3
   },
   "file_extension": ".py",
   "mimetype": "text/x-python",
   "name": "python",
   "nbconvert_exporter": "python",
   "pygments_lexer": "ipython3",
   "version": "3.8.8"
  },
  "orig_nbformat": 2,
  "kernelspec": {
   "name": "python388jvsc74a57bd0dca0ade3e726a953b501b15e8e990130d2b7799f14cfd9f4271676035ebe5511",
   "display_name": "Python 3.8.8 64-bit ('base': conda)"
  },
  "metadata": {
   "interpreter": {
    "hash": "dca0ade3e726a953b501b15e8e990130d2b7799f14cfd9f4271676035ebe5511"
   }
  }
 },
 "nbformat": 4,
 "nbformat_minor": 2,
 "cells": [
  {
   "cell_type": "code",
   "execution_count": 232,
   "metadata": {},
   "outputs": [],
   "source": [
    "import pandas as pd\n",
    "import re\n",
    "import os"
   ]
  },
  {
   "source": [
    "## Import Data from Multiple .csv Files"
   ],
   "cell_type": "markdown",
   "metadata": {}
  },
  {
   "cell_type": "code",
   "execution_count": 233,
   "metadata": {},
   "outputs": [
    {
     "output_type": "execute_result",
     "data": {
      "text/plain": [
       "['2019-media-agencies.csv',\n",
       " '2020-effective-agencies.csv',\n",
       " '2018-effective-agencies.csv',\n",
       " '2019-effective-agencies.csv',\n",
       " '2018-creative-agencies.csv',\n",
       " '2020-media-agencies.csv',\n",
       " '2020-creative-agencies-.csv',\n",
       " '2019-creative-agencies.csv',\n",
       " '2018-media-agencies.csv']"
      ]
     },
     "metadata": {},
     "execution_count": 233
    }
   ],
   "source": [
    "# file directory to import from\n",
    "data_files = os.listdir('../data_tues/agencies/')\n",
    "data_files"
   ]
  },
  {
   "cell_type": "code",
   "execution_count": 234,
   "metadata": {},
   "outputs": [
    {
     "output_type": "execute_result",
     "data": {
      "text/plain": [
       "     Rank           Agency Name      City      Agency Type   Agency Location  \\\n",
       "0       1  MediaCom Connections  Tel Aviv  Creative Agency            Israel   \n",
       "1       2               Touché!  Montreal  Creative Agency            Canada   \n",
       "2       3             Mindshare  Shanghai  Creative Agency  China (Mainland)   \n",
       "3       4                    UM    Sydney  Creative Agency         Australia   \n",
       "4       5              MediaCom    London  Creative Agency                UK   \n",
       "...   ...                   ...       ...              ...               ...   \n",
       "1604  NaN                   NaN       NaN              NaN               NaN   \n",
       "1605  NaN                   NaN       NaN              NaN               NaN   \n",
       "1606  NaN                   NaN       NaN              NaN               NaN   \n",
       "1607  NaN                   NaN       NaN              NaN               NaN   \n",
       "1608  NaN                   NaN       NaN              NaN               NaN   \n",
       "\n",
       "     Independent?                                   Product Category  Points  \\\n",
       "0             NaN       Household & Domestic, Toiletries & Cosmetics   201.7   \n",
       "1             NaN           Retail, Soft Drinks, Transport & Tourism   194.0   \n",
       "2             NaN               Clothing & Accessories, Food, Retail   186.0   \n",
       "3             NaN  Leisure & Entertainment, Soft Drinks, Telecoms...   182.7   \n",
       "4             NaN  Business & Industrial, Food, Non-profit, publi...   150.4   \n",
       "...           ...                                                ...     ...   \n",
       "1604          NaN                                                NaN     NaN   \n",
       "1605          NaN                                                NaN     NaN   \n",
       "1606          NaN                                                NaN     NaN   \n",
       "1607          NaN                                                NaN     NaN   \n",
       "1608          NaN                                                NaN     NaN   \n",
       "\n",
       "      year ranking_category  \n",
       "0     2019            media  \n",
       "1     2019            media  \n",
       "2     2019            media  \n",
       "3     2019            media  \n",
       "4     2019            media  \n",
       "...    ...              ...  \n",
       "1604  2018            media  \n",
       "1605  2018            media  \n",
       "1606  2018            media  \n",
       "1607  2018            media  \n",
       "1608  2018            media  \n",
       "\n",
       "[12872 rows x 10 columns]"
      ],
      "text/html": "<div>\n<style scoped>\n    .dataframe tbody tr th:only-of-type {\n        vertical-align: middle;\n    }\n\n    .dataframe tbody tr th {\n        vertical-align: top;\n    }\n\n    .dataframe thead th {\n        text-align: right;\n    }\n</style>\n<table border=\"1\" class=\"dataframe\">\n  <thead>\n    <tr style=\"text-align: right;\">\n      <th></th>\n      <th>Rank</th>\n      <th>Agency Name</th>\n      <th>City</th>\n      <th>Agency Type</th>\n      <th>Agency Location</th>\n      <th>Independent?</th>\n      <th>Product Category</th>\n      <th>Points</th>\n      <th>year</th>\n      <th>ranking_category</th>\n    </tr>\n  </thead>\n  <tbody>\n    <tr>\n      <th>0</th>\n      <td>1</td>\n      <td>MediaCom Connections</td>\n      <td>Tel Aviv</td>\n      <td>Creative Agency</td>\n      <td>Israel</td>\n      <td>NaN</td>\n      <td>Household &amp; Domestic, Toiletries &amp; Cosmetics</td>\n      <td>201.7</td>\n      <td>2019</td>\n      <td>media</td>\n    </tr>\n    <tr>\n      <th>1</th>\n      <td>2</td>\n      <td>Touché!</td>\n      <td>Montreal</td>\n      <td>Creative Agency</td>\n      <td>Canada</td>\n      <td>NaN</td>\n      <td>Retail, Soft Drinks, Transport &amp; Tourism</td>\n      <td>194.0</td>\n      <td>2019</td>\n      <td>media</td>\n    </tr>\n    <tr>\n      <th>2</th>\n      <td>3</td>\n      <td>Mindshare</td>\n      <td>Shanghai</td>\n      <td>Creative Agency</td>\n      <td>China (Mainland)</td>\n      <td>NaN</td>\n      <td>Clothing &amp; Accessories, Food, Retail</td>\n      <td>186.0</td>\n      <td>2019</td>\n      <td>media</td>\n    </tr>\n    <tr>\n      <th>3</th>\n      <td>4</td>\n      <td>UM</td>\n      <td>Sydney</td>\n      <td>Creative Agency</td>\n      <td>Australia</td>\n      <td>NaN</td>\n      <td>Leisure &amp; Entertainment, Soft Drinks, Telecoms...</td>\n      <td>182.7</td>\n      <td>2019</td>\n      <td>media</td>\n    </tr>\n    <tr>\n      <th>4</th>\n      <td>5</td>\n      <td>MediaCom</td>\n      <td>London</td>\n      <td>Creative Agency</td>\n      <td>UK</td>\n      <td>NaN</td>\n      <td>Business &amp; Industrial, Food, Non-profit, publi...</td>\n      <td>150.4</td>\n      <td>2019</td>\n      <td>media</td>\n    </tr>\n    <tr>\n      <th>...</th>\n      <td>...</td>\n      <td>...</td>\n      <td>...</td>\n      <td>...</td>\n      <td>...</td>\n      <td>...</td>\n      <td>...</td>\n      <td>...</td>\n      <td>...</td>\n      <td>...</td>\n    </tr>\n    <tr>\n      <th>1604</th>\n      <td>NaN</td>\n      <td>NaN</td>\n      <td>NaN</td>\n      <td>NaN</td>\n      <td>NaN</td>\n      <td>NaN</td>\n      <td>NaN</td>\n      <td>NaN</td>\n      <td>2018</td>\n      <td>media</td>\n    </tr>\n    <tr>\n      <th>1605</th>\n      <td>NaN</td>\n      <td>NaN</td>\n      <td>NaN</td>\n      <td>NaN</td>\n      <td>NaN</td>\n      <td>NaN</td>\n      <td>NaN</td>\n      <td>NaN</td>\n      <td>2018</td>\n      <td>media</td>\n    </tr>\n    <tr>\n      <th>1606</th>\n      <td>NaN</td>\n      <td>NaN</td>\n      <td>NaN</td>\n      <td>NaN</td>\n      <td>NaN</td>\n      <td>NaN</td>\n      <td>NaN</td>\n      <td>NaN</td>\n      <td>2018</td>\n      <td>media</td>\n    </tr>\n    <tr>\n      <th>1607</th>\n      <td>NaN</td>\n      <td>NaN</td>\n      <td>NaN</td>\n      <td>NaN</td>\n      <td>NaN</td>\n      <td>NaN</td>\n      <td>NaN</td>\n      <td>NaN</td>\n      <td>2018</td>\n      <td>media</td>\n    </tr>\n    <tr>\n      <th>1608</th>\n      <td>NaN</td>\n      <td>NaN</td>\n      <td>NaN</td>\n      <td>NaN</td>\n      <td>NaN</td>\n      <td>NaN</td>\n      <td>NaN</td>\n      <td>NaN</td>\n      <td>2018</td>\n      <td>media</td>\n    </tr>\n  </tbody>\n</table>\n<p>12872 rows × 10 columns</p>\n</div>"
     },
     "metadata": {},
     "execution_count": 234
    }
   ],
   "source": [
    "# function to import data from csv and add columns for year and category from file name\n",
    "def load_files(filenames):\n",
    "    regex = re.compile(r'^(\\d{4})-(\\w+)-agencies\\.csv$')\n",
    "    matches = [m for m in map(regex.match, filenames) if m is not None]\n",
    "\n",
    "    for match in matches:\n",
    "\t    yield (\n",
    "            pd.read_csv('../data_tues/agencies/' + match.group(0))\n",
    "            .assign(year=match.group(1), ranking_category=match.group(2)) \n",
    "            .astype({'year': 'int', 'ranking_category': 'string'}) \n",
    "        )\n",
    "\t\t\n",
    "agencies_data = pd.concat(load_files(data_files))\n",
    "agencies_data"
   ]
  },
  {
   "source": [
    "## Clean up the Data"
   ],
   "cell_type": "markdown",
   "metadata": {}
  },
  {
   "cell_type": "code",
   "execution_count": 235,
   "metadata": {},
   "outputs": [],
   "source": [
    "# remove na rows (from the bottom of the excel files)\n",
    "agencies_data = agencies_data.dropna(subset=['Agency Name'])\n",
    "agencies_data = agencies_data.drop(columns=['Rank'])"
   ]
  },
  {
   "cell_type": "code",
   "execution_count": 236,
   "metadata": {},
   "outputs": [],
   "source": [
    "# set \"Independent\" column to boolean fill with true and false vals\n",
    "d = {'X': True}\n",
    "agencies_data[\"Independent?\"] = agencies_data[\"Independent?\"].replace(d)\n",
    "agencies_data['Independent?'] = agencies_data[\"Independent?\"].fillna(False)"
   ]
  },
  {
   "cell_type": "code",
   "execution_count": 237,
   "metadata": {},
   "outputs": [
    {
     "output_type": "execute_result",
     "data": {
      "text/plain": [
       "                     name        city             type           country  \\\n",
       "0    MediaCom Connections    Tel Aviv  Creative Agency            Israel   \n",
       "1                 Touché!    Montreal  Creative Agency            Canada   \n",
       "2               Mindshare    Shanghai  Creative Agency  China (Mainland)   \n",
       "3                      UM      Sydney  Creative Agency         Australia   \n",
       "4                MediaCom      London  Creative Agency                UK   \n",
       "..                    ...         ...              ...               ...   \n",
       "430  The Electric Factory  Montevideo  Creative Agency           Uruguay   \n",
       "431   Wunderman Phantasia        Lima  Creative Agency              Peru   \n",
       "432       Laundry Service      London  Creative Agency                UK   \n",
       "433                 m/SIX      London  Creative Agency                UK   \n",
       "434         PMG Worldwide  Fort Worth  Creative Agency               USA   \n",
       "\n",
       "     independent                                   product_category  points  \\\n",
       "0          False       Household & Domestic, Toiletries & Cosmetics   201.7   \n",
       "1          False           Retail, Soft Drinks, Transport & Tourism   194.0   \n",
       "2          False               Clothing & Accessories, Food, Retail   186.0   \n",
       "3          False  Leisure & Entertainment, Soft Drinks, Telecoms...   182.7   \n",
       "4          False  Business & Industrial, Food, Non-profit, publi...   150.4   \n",
       "..           ...                                                ...     ...   \n",
       "430         True                             Toiletries & Cosmetics     3.0   \n",
       "431        False                               Telecoms & Utilities     3.0   \n",
       "432         True                           Technology & Electronics     2.9   \n",
       "433        False                                Transport & Tourism     2.9   \n",
       "434         True                           Technology & Electronics     2.9   \n",
       "\n",
       "     year ranking_category  \n",
       "0    2019            media  \n",
       "1    2019            media  \n",
       "2    2019            media  \n",
       "3    2019            media  \n",
       "4    2019            media  \n",
       "..    ...              ...  \n",
       "430  2018            media  \n",
       "431  2018            media  \n",
       "432  2018            media  \n",
       "433  2018            media  \n",
       "434  2018            media  \n",
       "\n",
       "[6363 rows x 9 columns]"
      ],
      "text/html": "<div>\n<style scoped>\n    .dataframe tbody tr th:only-of-type {\n        vertical-align: middle;\n    }\n\n    .dataframe tbody tr th {\n        vertical-align: top;\n    }\n\n    .dataframe thead th {\n        text-align: right;\n    }\n</style>\n<table border=\"1\" class=\"dataframe\">\n  <thead>\n    <tr style=\"text-align: right;\">\n      <th></th>\n      <th>name</th>\n      <th>city</th>\n      <th>type</th>\n      <th>country</th>\n      <th>independent</th>\n      <th>product_category</th>\n      <th>points</th>\n      <th>year</th>\n      <th>ranking_category</th>\n    </tr>\n  </thead>\n  <tbody>\n    <tr>\n      <th>0</th>\n      <td>MediaCom Connections</td>\n      <td>Tel Aviv</td>\n      <td>Creative Agency</td>\n      <td>Israel</td>\n      <td>False</td>\n      <td>Household &amp; Domestic, Toiletries &amp; Cosmetics</td>\n      <td>201.7</td>\n      <td>2019</td>\n      <td>media</td>\n    </tr>\n    <tr>\n      <th>1</th>\n      <td>Touché!</td>\n      <td>Montreal</td>\n      <td>Creative Agency</td>\n      <td>Canada</td>\n      <td>False</td>\n      <td>Retail, Soft Drinks, Transport &amp; Tourism</td>\n      <td>194.0</td>\n      <td>2019</td>\n      <td>media</td>\n    </tr>\n    <tr>\n      <th>2</th>\n      <td>Mindshare</td>\n      <td>Shanghai</td>\n      <td>Creative Agency</td>\n      <td>China (Mainland)</td>\n      <td>False</td>\n      <td>Clothing &amp; Accessories, Food, Retail</td>\n      <td>186.0</td>\n      <td>2019</td>\n      <td>media</td>\n    </tr>\n    <tr>\n      <th>3</th>\n      <td>UM</td>\n      <td>Sydney</td>\n      <td>Creative Agency</td>\n      <td>Australia</td>\n      <td>False</td>\n      <td>Leisure &amp; Entertainment, Soft Drinks, Telecoms...</td>\n      <td>182.7</td>\n      <td>2019</td>\n      <td>media</td>\n    </tr>\n    <tr>\n      <th>4</th>\n      <td>MediaCom</td>\n      <td>London</td>\n      <td>Creative Agency</td>\n      <td>UK</td>\n      <td>False</td>\n      <td>Business &amp; Industrial, Food, Non-profit, publi...</td>\n      <td>150.4</td>\n      <td>2019</td>\n      <td>media</td>\n    </tr>\n    <tr>\n      <th>...</th>\n      <td>...</td>\n      <td>...</td>\n      <td>...</td>\n      <td>...</td>\n      <td>...</td>\n      <td>...</td>\n      <td>...</td>\n      <td>...</td>\n      <td>...</td>\n    </tr>\n    <tr>\n      <th>430</th>\n      <td>The Electric Factory</td>\n      <td>Montevideo</td>\n      <td>Creative Agency</td>\n      <td>Uruguay</td>\n      <td>True</td>\n      <td>Toiletries &amp; Cosmetics</td>\n      <td>3.0</td>\n      <td>2018</td>\n      <td>media</td>\n    </tr>\n    <tr>\n      <th>431</th>\n      <td>Wunderman Phantasia</td>\n      <td>Lima</td>\n      <td>Creative Agency</td>\n      <td>Peru</td>\n      <td>False</td>\n      <td>Telecoms &amp; Utilities</td>\n      <td>3.0</td>\n      <td>2018</td>\n      <td>media</td>\n    </tr>\n    <tr>\n      <th>432</th>\n      <td>Laundry Service</td>\n      <td>London</td>\n      <td>Creative Agency</td>\n      <td>UK</td>\n      <td>True</td>\n      <td>Technology &amp; Electronics</td>\n      <td>2.9</td>\n      <td>2018</td>\n      <td>media</td>\n    </tr>\n    <tr>\n      <th>433</th>\n      <td>m/SIX</td>\n      <td>London</td>\n      <td>Creative Agency</td>\n      <td>UK</td>\n      <td>False</td>\n      <td>Transport &amp; Tourism</td>\n      <td>2.9</td>\n      <td>2018</td>\n      <td>media</td>\n    </tr>\n    <tr>\n      <th>434</th>\n      <td>PMG Worldwide</td>\n      <td>Fort Worth</td>\n      <td>Creative Agency</td>\n      <td>USA</td>\n      <td>True</td>\n      <td>Technology &amp; Electronics</td>\n      <td>2.9</td>\n      <td>2018</td>\n      <td>media</td>\n    </tr>\n  </tbody>\n</table>\n<p>6363 rows × 9 columns</p>\n</div>"
     },
     "metadata": {},
     "execution_count": 237
    }
   ],
   "source": [
    "#rename the columns\n",
    "agencies_data = agencies_data.rename(columns={'Agency Name': \"name\", 'City': 'city', 'Agency Type': 'type', 'Agency Location': 'country', 'Independent?': 'independent', 'Product Category': 'product_category', 'Points': 'points'})\n",
    "\n",
    "agencies_data"
   ]
  },
  {
   "source": [
    "## Extract Data for sql Tables and set IDs"
   ],
   "cell_type": "markdown",
   "metadata": {}
  },
  {
   "source": [
    "### Product Categories Table"
   ],
   "cell_type": "markdown",
   "metadata": {}
  },
  {
   "cell_type": "code",
   "execution_count": 238,
   "metadata": {},
   "outputs": [
    {
     "output_type": "execute_result",
     "data": {
      "text/plain": [
       "    id                       name\n",
       "0    1                 Non-profit\n",
       "1    2                       Food\n",
       "2    3        Pharma & Healthcare\n",
       "3    4     Clothing & Accessories\n",
       "4    5       Household & Domestic\n",
       "5    6    Leisure & Entertainment\n",
       "6    7                    Tobacco\n",
       "7    8                Soft Drinks\n",
       "8    9        Transport & Tourism\n",
       "9   10                   Politics\n",
       "10  11   Technology & Electronics\n",
       "11  12         Media & Publishing\n",
       "12  13                 Automotive\n",
       "13  14         Financial Services\n",
       "14  15       Telecoms & Utilities\n",
       "15  16  public sector & education\n",
       "16  17                     Retail\n",
       "17  18           Alcoholic Drinks\n",
       "18  19     Toiletries & Cosmetics\n",
       "19  20      Business & Industrial"
      ],
      "text/html": "<div>\n<style scoped>\n    .dataframe tbody tr th:only-of-type {\n        vertical-align: middle;\n    }\n\n    .dataframe tbody tr th {\n        vertical-align: top;\n    }\n\n    .dataframe thead th {\n        text-align: right;\n    }\n</style>\n<table border=\"1\" class=\"dataframe\">\n  <thead>\n    <tr style=\"text-align: right;\">\n      <th></th>\n      <th>id</th>\n      <th>name</th>\n    </tr>\n  </thead>\n  <tbody>\n    <tr>\n      <th>0</th>\n      <td>1</td>\n      <td>Non-profit</td>\n    </tr>\n    <tr>\n      <th>1</th>\n      <td>2</td>\n      <td>Food</td>\n    </tr>\n    <tr>\n      <th>2</th>\n      <td>3</td>\n      <td>Pharma &amp; Healthcare</td>\n    </tr>\n    <tr>\n      <th>3</th>\n      <td>4</td>\n      <td>Clothing &amp; Accessories</td>\n    </tr>\n    <tr>\n      <th>4</th>\n      <td>5</td>\n      <td>Household &amp; Domestic</td>\n    </tr>\n    <tr>\n      <th>5</th>\n      <td>6</td>\n      <td>Leisure &amp; Entertainment</td>\n    </tr>\n    <tr>\n      <th>6</th>\n      <td>7</td>\n      <td>Tobacco</td>\n    </tr>\n    <tr>\n      <th>7</th>\n      <td>8</td>\n      <td>Soft Drinks</td>\n    </tr>\n    <tr>\n      <th>8</th>\n      <td>9</td>\n      <td>Transport &amp; Tourism</td>\n    </tr>\n    <tr>\n      <th>9</th>\n      <td>10</td>\n      <td>Politics</td>\n    </tr>\n    <tr>\n      <th>10</th>\n      <td>11</td>\n      <td>Technology &amp; Electronics</td>\n    </tr>\n    <tr>\n      <th>11</th>\n      <td>12</td>\n      <td>Media &amp; Publishing</td>\n    </tr>\n    <tr>\n      <th>12</th>\n      <td>13</td>\n      <td>Automotive</td>\n    </tr>\n    <tr>\n      <th>13</th>\n      <td>14</td>\n      <td>Financial Services</td>\n    </tr>\n    <tr>\n      <th>14</th>\n      <td>15</td>\n      <td>Telecoms &amp; Utilities</td>\n    </tr>\n    <tr>\n      <th>15</th>\n      <td>16</td>\n      <td>public sector &amp; education</td>\n    </tr>\n    <tr>\n      <th>16</th>\n      <td>17</td>\n      <td>Retail</td>\n    </tr>\n    <tr>\n      <th>17</th>\n      <td>18</td>\n      <td>Alcoholic Drinks</td>\n    </tr>\n    <tr>\n      <th>18</th>\n      <td>19</td>\n      <td>Toiletries &amp; Cosmetics</td>\n    </tr>\n    <tr>\n      <th>19</th>\n      <td>20</td>\n      <td>Business &amp; Industrial</td>\n    </tr>\n  </tbody>\n</table>\n</div>"
     },
     "metadata": {},
     "execution_count": 238
    }
   ],
   "source": [
    "# get a list of product categories\n",
    "product_categories = [val.strip() for sublist in agencies_data[\"product_category\"].dropna().str.split(\",\").tolist() for val in sublist]\n",
    "product_categories = list(set(product_categories))\n",
    "product_categories = pd.DataFrame(product_categories,columns=['name'])\n",
    "product_categories.insert(0, 'id', range(1, 1 + len(product_categories)))\n",
    "# product_categories.set_index('id', inplace=True)\n",
    "product_categories\n"
   ]
  },
  {
   "source": [
    "### Agency Table\n",
    "1. Get a unique set of agencies - this is a composite of name, city, and type. \n",
    "2. Create an \"id\" for each unique agency.\n",
    "3. Merge the \"id\"'s back into the original table.\n",
    "4. Remove superfluous columns"
   ],
   "cell_type": "markdown",
   "metadata": {}
  },
  {
   "cell_type": "code",
   "execution_count": 239,
   "metadata": {},
   "outputs": [
    {
     "output_type": "execute_result",
     "data": {
      "text/plain": [
       "        id           name         city                       type    country  \\\n",
       "0        1         !eatme       Warsaw  Digital/Specialist Agency     Poland   \n",
       "1        2            &Co   Copenhagen            Creative Agency    Denmark   \n",
       "2        3         &Rosas    Barcelona            Creative Agency      Spain   \n",
       "3        4    ( anonimo )  Mexico City            Creative Agency     Mexico   \n",
       "4        5      (anónimo)  Mexico City            Creative Agency     Mexico   \n",
       "...    ...            ...          ...                        ...        ...   \n",
       "4141  4142     zMessenger      Colombo            Creative Agency  Sri Lanka   \n",
       "4142  4143  Åkestam Holst    Stockholm            Creative Agency     Sweden   \n",
       "4143  4144          Öppet    Stockholm            Creative Agency     Sweden   \n",
       "4144  4145   Über Dijital     Istanbul  Digital/Specialist Agency     Turkey   \n",
       "4145  4146      Марк Рейс       Moscow            Creative Agency     Russia   \n",
       "\n",
       "      independent  \n",
       "0            True  \n",
       "1            True  \n",
       "2            True  \n",
       "3            True  \n",
       "4            True  \n",
       "...           ...  \n",
       "4141         True  \n",
       "4142         True  \n",
       "4143         True  \n",
       "4144         True  \n",
       "4145         True  \n",
       "\n",
       "[4146 rows x 6 columns]"
      ],
      "text/html": "<div>\n<style scoped>\n    .dataframe tbody tr th:only-of-type {\n        vertical-align: middle;\n    }\n\n    .dataframe tbody tr th {\n        vertical-align: top;\n    }\n\n    .dataframe thead th {\n        text-align: right;\n    }\n</style>\n<table border=\"1\" class=\"dataframe\">\n  <thead>\n    <tr style=\"text-align: right;\">\n      <th></th>\n      <th>id</th>\n      <th>name</th>\n      <th>city</th>\n      <th>type</th>\n      <th>country</th>\n      <th>independent</th>\n    </tr>\n  </thead>\n  <tbody>\n    <tr>\n      <th>0</th>\n      <td>1</td>\n      <td>!eatme</td>\n      <td>Warsaw</td>\n      <td>Digital/Specialist Agency</td>\n      <td>Poland</td>\n      <td>True</td>\n    </tr>\n    <tr>\n      <th>1</th>\n      <td>2</td>\n      <td>&amp;Co</td>\n      <td>Copenhagen</td>\n      <td>Creative Agency</td>\n      <td>Denmark</td>\n      <td>True</td>\n    </tr>\n    <tr>\n      <th>2</th>\n      <td>3</td>\n      <td>&amp;Rosas</td>\n      <td>Barcelona</td>\n      <td>Creative Agency</td>\n      <td>Spain</td>\n      <td>True</td>\n    </tr>\n    <tr>\n      <th>3</th>\n      <td>4</td>\n      <td>( anonimo )</td>\n      <td>Mexico City</td>\n      <td>Creative Agency</td>\n      <td>Mexico</td>\n      <td>True</td>\n    </tr>\n    <tr>\n      <th>4</th>\n      <td>5</td>\n      <td>(anónimo)</td>\n      <td>Mexico City</td>\n      <td>Creative Agency</td>\n      <td>Mexico</td>\n      <td>True</td>\n    </tr>\n    <tr>\n      <th>...</th>\n      <td>...</td>\n      <td>...</td>\n      <td>...</td>\n      <td>...</td>\n      <td>...</td>\n      <td>...</td>\n    </tr>\n    <tr>\n      <th>4141</th>\n      <td>4142</td>\n      <td>zMessenger</td>\n      <td>Colombo</td>\n      <td>Creative Agency</td>\n      <td>Sri Lanka</td>\n      <td>True</td>\n    </tr>\n    <tr>\n      <th>4142</th>\n      <td>4143</td>\n      <td>Åkestam Holst</td>\n      <td>Stockholm</td>\n      <td>Creative Agency</td>\n      <td>Sweden</td>\n      <td>True</td>\n    </tr>\n    <tr>\n      <th>4143</th>\n      <td>4144</td>\n      <td>Öppet</td>\n      <td>Stockholm</td>\n      <td>Creative Agency</td>\n      <td>Sweden</td>\n      <td>True</td>\n    </tr>\n    <tr>\n      <th>4144</th>\n      <td>4145</td>\n      <td>Über Dijital</td>\n      <td>Istanbul</td>\n      <td>Digital/Specialist Agency</td>\n      <td>Turkey</td>\n      <td>True</td>\n    </tr>\n    <tr>\n      <th>4145</th>\n      <td>4146</td>\n      <td>Марк Рейс</td>\n      <td>Moscow</td>\n      <td>Creative Agency</td>\n      <td>Russia</td>\n      <td>True</td>\n    </tr>\n  </tbody>\n</table>\n<p>4146 rows × 6 columns</p>\n</div>"
     },
     "metadata": {},
     "execution_count": 239
    }
   ],
   "source": [
    "# get a unique list of agencies\n",
    "agency = agencies_data.groupby(['name' ,'city' , 'type']).agg({'country': 'first', 'independent': 'first'}).reset_index()\n",
    "\n",
    "#create a unique id for the composite\n",
    "agency.insert(0, 'id', range(1, 1 + len(agency)))\n",
    "# agency.set_index('id', inplace=True)\n",
    "agency\n"
   ]
  },
  {
   "cell_type": "code",
   "execution_count": 240,
   "metadata": {},
   "outputs": [
    {
     "output_type": "execute_result",
     "data": {
      "text/plain": [
       "        id                  name        city             type  \\\n",
       "0     2161  MediaCom Connections    Tel Aviv  Creative Agency   \n",
       "1     3559               Touché!    Montreal  Creative Agency   \n",
       "2     2273             Mindshare    Shanghai  Creative Agency   \n",
       "3     3646                    UM      Sydney  Creative Agency   \n",
       "4     2122              MediaCom      London  Creative Agency   \n",
       "...    ...                   ...         ...              ...   \n",
       "6358  3482  The Electric Factory  Montevideo  Creative Agency   \n",
       "6359  3939   Wunderman Phantasia        Lima  Creative Agency   \n",
       "6360  1787       Laundry Service      London  Creative Agency   \n",
       "6361  4112                 m/SIX      London  Creative Agency   \n",
       "6362  2713         PMG Worldwide  Fort Worth  Creative Agency   \n",
       "\n",
       "               country  independent  \\\n",
       "0               Israel        False   \n",
       "1               Canada        False   \n",
       "2     China (Mainland)        False   \n",
       "3            Australia        False   \n",
       "4                   UK        False   \n",
       "...                ...          ...   \n",
       "6358           Uruguay         True   \n",
       "6359              Peru        False   \n",
       "6360                UK         True   \n",
       "6361                UK        False   \n",
       "6362               USA         True   \n",
       "\n",
       "                                       product_category  points  year  \\\n",
       "0          Household & Domestic, Toiletries & Cosmetics   201.7  2019   \n",
       "1              Retail, Soft Drinks, Transport & Tourism   194.0  2019   \n",
       "2                  Clothing & Accessories, Food, Retail   186.0  2019   \n",
       "3     Leisure & Entertainment, Soft Drinks, Telecoms...   182.7  2019   \n",
       "4     Business & Industrial, Food, Non-profit, publi...   150.4  2019   \n",
       "...                                                 ...     ...   ...   \n",
       "6358                             Toiletries & Cosmetics     3.0  2018   \n",
       "6359                               Telecoms & Utilities     3.0  2018   \n",
       "6360                           Technology & Electronics     2.9  2018   \n",
       "6361                                Transport & Tourism     2.9  2018   \n",
       "6362                           Technology & Electronics     2.9  2018   \n",
       "\n",
       "     ranking_category  \n",
       "0               media  \n",
       "1               media  \n",
       "2               media  \n",
       "3               media  \n",
       "4               media  \n",
       "...               ...  \n",
       "6358            media  \n",
       "6359            media  \n",
       "6360            media  \n",
       "6361            media  \n",
       "6362            media  \n",
       "\n",
       "[6363 rows x 10 columns]"
      ],
      "text/html": "<div>\n<style scoped>\n    .dataframe tbody tr th:only-of-type {\n        vertical-align: middle;\n    }\n\n    .dataframe tbody tr th {\n        vertical-align: top;\n    }\n\n    .dataframe thead th {\n        text-align: right;\n    }\n</style>\n<table border=\"1\" class=\"dataframe\">\n  <thead>\n    <tr style=\"text-align: right;\">\n      <th></th>\n      <th>id</th>\n      <th>name</th>\n      <th>city</th>\n      <th>type</th>\n      <th>country</th>\n      <th>independent</th>\n      <th>product_category</th>\n      <th>points</th>\n      <th>year</th>\n      <th>ranking_category</th>\n    </tr>\n  </thead>\n  <tbody>\n    <tr>\n      <th>0</th>\n      <td>2161</td>\n      <td>MediaCom Connections</td>\n      <td>Tel Aviv</td>\n      <td>Creative Agency</td>\n      <td>Israel</td>\n      <td>False</td>\n      <td>Household &amp; Domestic, Toiletries &amp; Cosmetics</td>\n      <td>201.7</td>\n      <td>2019</td>\n      <td>media</td>\n    </tr>\n    <tr>\n      <th>1</th>\n      <td>3559</td>\n      <td>Touché!</td>\n      <td>Montreal</td>\n      <td>Creative Agency</td>\n      <td>Canada</td>\n      <td>False</td>\n      <td>Retail, Soft Drinks, Transport &amp; Tourism</td>\n      <td>194.0</td>\n      <td>2019</td>\n      <td>media</td>\n    </tr>\n    <tr>\n      <th>2</th>\n      <td>2273</td>\n      <td>Mindshare</td>\n      <td>Shanghai</td>\n      <td>Creative Agency</td>\n      <td>China (Mainland)</td>\n      <td>False</td>\n      <td>Clothing &amp; Accessories, Food, Retail</td>\n      <td>186.0</td>\n      <td>2019</td>\n      <td>media</td>\n    </tr>\n    <tr>\n      <th>3</th>\n      <td>3646</td>\n      <td>UM</td>\n      <td>Sydney</td>\n      <td>Creative Agency</td>\n      <td>Australia</td>\n      <td>False</td>\n      <td>Leisure &amp; Entertainment, Soft Drinks, Telecoms...</td>\n      <td>182.7</td>\n      <td>2019</td>\n      <td>media</td>\n    </tr>\n    <tr>\n      <th>4</th>\n      <td>2122</td>\n      <td>MediaCom</td>\n      <td>London</td>\n      <td>Creative Agency</td>\n      <td>UK</td>\n      <td>False</td>\n      <td>Business &amp; Industrial, Food, Non-profit, publi...</td>\n      <td>150.4</td>\n      <td>2019</td>\n      <td>media</td>\n    </tr>\n    <tr>\n      <th>...</th>\n      <td>...</td>\n      <td>...</td>\n      <td>...</td>\n      <td>...</td>\n      <td>...</td>\n      <td>...</td>\n      <td>...</td>\n      <td>...</td>\n      <td>...</td>\n      <td>...</td>\n    </tr>\n    <tr>\n      <th>6358</th>\n      <td>3482</td>\n      <td>The Electric Factory</td>\n      <td>Montevideo</td>\n      <td>Creative Agency</td>\n      <td>Uruguay</td>\n      <td>True</td>\n      <td>Toiletries &amp; Cosmetics</td>\n      <td>3.0</td>\n      <td>2018</td>\n      <td>media</td>\n    </tr>\n    <tr>\n      <th>6359</th>\n      <td>3939</td>\n      <td>Wunderman Phantasia</td>\n      <td>Lima</td>\n      <td>Creative Agency</td>\n      <td>Peru</td>\n      <td>False</td>\n      <td>Telecoms &amp; Utilities</td>\n      <td>3.0</td>\n      <td>2018</td>\n      <td>media</td>\n    </tr>\n    <tr>\n      <th>6360</th>\n      <td>1787</td>\n      <td>Laundry Service</td>\n      <td>London</td>\n      <td>Creative Agency</td>\n      <td>UK</td>\n      <td>True</td>\n      <td>Technology &amp; Electronics</td>\n      <td>2.9</td>\n      <td>2018</td>\n      <td>media</td>\n    </tr>\n    <tr>\n      <th>6361</th>\n      <td>4112</td>\n      <td>m/SIX</td>\n      <td>London</td>\n      <td>Creative Agency</td>\n      <td>UK</td>\n      <td>False</td>\n      <td>Transport &amp; Tourism</td>\n      <td>2.9</td>\n      <td>2018</td>\n      <td>media</td>\n    </tr>\n    <tr>\n      <th>6362</th>\n      <td>2713</td>\n      <td>PMG Worldwide</td>\n      <td>Fort Worth</td>\n      <td>Creative Agency</td>\n      <td>USA</td>\n      <td>True</td>\n      <td>Technology &amp; Electronics</td>\n      <td>2.9</td>\n      <td>2018</td>\n      <td>media</td>\n    </tr>\n  </tbody>\n</table>\n<p>6363 rows × 10 columns</p>\n</div>"
     },
     "metadata": {},
     "execution_count": 240
    }
   ],
   "source": [
    "merged_df = pd.merge(agencies_data, agency, how=\"left\", on=[\"name\", \"city\", \"type\"])\n",
    "merged_df = merged_df.drop(columns=['country_y', 'independent_y' ])\n",
    "merged_df = merged_df.rename(columns={'country_x': \"country\", 'independent_x': 'independent'})\n",
    "id_col = merged_df['id']\n",
    "merged_df.drop(labels=['id'], axis=1,inplace = True)\n",
    "merged_df.insert(0, 'id', id_col)\n",
    "merged_df"
   ]
  },
  {
   "source": [
    "### Create the Agency Table"
   ],
   "cell_type": "markdown",
   "metadata": {}
  },
  {
   "cell_type": "code",
   "execution_count": 241,
   "metadata": {},
   "outputs": [
    {
     "output_type": "execute_result",
     "data": {
      "text/plain": [
       "        id                  name        city             type  \\\n",
       "0     2161  MediaCom Connections    Tel Aviv  Creative Agency   \n",
       "1     3559               Touché!    Montreal  Creative Agency   \n",
       "2     2273             Mindshare    Shanghai  Creative Agency   \n",
       "3     3646                    UM      Sydney  Creative Agency   \n",
       "4     2122              MediaCom      London  Creative Agency   \n",
       "...    ...                   ...         ...              ...   \n",
       "6358  3482  The Electric Factory  Montevideo  Creative Agency   \n",
       "6359  3939   Wunderman Phantasia        Lima  Creative Agency   \n",
       "6360  1787       Laundry Service      London  Creative Agency   \n",
       "6361  4112                 m/SIX      London  Creative Agency   \n",
       "6362  2713         PMG Worldwide  Fort Worth  Creative Agency   \n",
       "\n",
       "               country  independent  \n",
       "0               Israel        False  \n",
       "1               Canada        False  \n",
       "2     China (Mainland)        False  \n",
       "3            Australia        False  \n",
       "4                   UK        False  \n",
       "...                ...          ...  \n",
       "6358           Uruguay         True  \n",
       "6359              Peru        False  \n",
       "6360                UK         True  \n",
       "6361                UK        False  \n",
       "6362               USA         True  \n",
       "\n",
       "[6363 rows x 6 columns]"
      ],
      "text/html": "<div>\n<style scoped>\n    .dataframe tbody tr th:only-of-type {\n        vertical-align: middle;\n    }\n\n    .dataframe tbody tr th {\n        vertical-align: top;\n    }\n\n    .dataframe thead th {\n        text-align: right;\n    }\n</style>\n<table border=\"1\" class=\"dataframe\">\n  <thead>\n    <tr style=\"text-align: right;\">\n      <th></th>\n      <th>id</th>\n      <th>name</th>\n      <th>city</th>\n      <th>type</th>\n      <th>country</th>\n      <th>independent</th>\n    </tr>\n  </thead>\n  <tbody>\n    <tr>\n      <th>0</th>\n      <td>2161</td>\n      <td>MediaCom Connections</td>\n      <td>Tel Aviv</td>\n      <td>Creative Agency</td>\n      <td>Israel</td>\n      <td>False</td>\n    </tr>\n    <tr>\n      <th>1</th>\n      <td>3559</td>\n      <td>Touché!</td>\n      <td>Montreal</td>\n      <td>Creative Agency</td>\n      <td>Canada</td>\n      <td>False</td>\n    </tr>\n    <tr>\n      <th>2</th>\n      <td>2273</td>\n      <td>Mindshare</td>\n      <td>Shanghai</td>\n      <td>Creative Agency</td>\n      <td>China (Mainland)</td>\n      <td>False</td>\n    </tr>\n    <tr>\n      <th>3</th>\n      <td>3646</td>\n      <td>UM</td>\n      <td>Sydney</td>\n      <td>Creative Agency</td>\n      <td>Australia</td>\n      <td>False</td>\n    </tr>\n    <tr>\n      <th>4</th>\n      <td>2122</td>\n      <td>MediaCom</td>\n      <td>London</td>\n      <td>Creative Agency</td>\n      <td>UK</td>\n      <td>False</td>\n    </tr>\n    <tr>\n      <th>...</th>\n      <td>...</td>\n      <td>...</td>\n      <td>...</td>\n      <td>...</td>\n      <td>...</td>\n      <td>...</td>\n    </tr>\n    <tr>\n      <th>6358</th>\n      <td>3482</td>\n      <td>The Electric Factory</td>\n      <td>Montevideo</td>\n      <td>Creative Agency</td>\n      <td>Uruguay</td>\n      <td>True</td>\n    </tr>\n    <tr>\n      <th>6359</th>\n      <td>3939</td>\n      <td>Wunderman Phantasia</td>\n      <td>Lima</td>\n      <td>Creative Agency</td>\n      <td>Peru</td>\n      <td>False</td>\n    </tr>\n    <tr>\n      <th>6360</th>\n      <td>1787</td>\n      <td>Laundry Service</td>\n      <td>London</td>\n      <td>Creative Agency</td>\n      <td>UK</td>\n      <td>True</td>\n    </tr>\n    <tr>\n      <th>6361</th>\n      <td>4112</td>\n      <td>m/SIX</td>\n      <td>London</td>\n      <td>Creative Agency</td>\n      <td>UK</td>\n      <td>False</td>\n    </tr>\n    <tr>\n      <th>6362</th>\n      <td>2713</td>\n      <td>PMG Worldwide</td>\n      <td>Fort Worth</td>\n      <td>Creative Agency</td>\n      <td>USA</td>\n      <td>True</td>\n    </tr>\n  </tbody>\n</table>\n<p>6363 rows × 6 columns</p>\n</div>"
     },
     "metadata": {},
     "execution_count": 241
    }
   ],
   "source": [
    "# create the agency table\n",
    "agency_df = merged_df.filter([\"id\", \"name\", \"city\", \"type\", \"country\", \"independent\"], axis=1)\n",
    "agency_df"
   ]
  },
  {
   "source": [
    "### Create Agency Market Rank Table"
   ],
   "cell_type": "markdown",
   "metadata": {}
  },
  {
   "cell_type": "code",
   "execution_count": 242,
   "metadata": {},
   "outputs": [
    {
     "output_type": "execute_result",
     "data": {
      "text/plain": [
       "     ranking_category  year  agency_id  points\n",
       "0               media  2019       2161   201.7\n",
       "1               media  2019       3559   194.0\n",
       "2               media  2019       2273   186.0\n",
       "3               media  2019       3646   182.7\n",
       "4               media  2019       2122   150.4\n",
       "...               ...   ...        ...     ...\n",
       "6358            media  2018       3482     3.0\n",
       "6359            media  2018       3939     3.0\n",
       "6360            media  2018       1787     2.9\n",
       "6361            media  2018       4112     2.9\n",
       "6362            media  2018       2713     2.9\n",
       "\n",
       "[6363 rows x 4 columns]"
      ],
      "text/html": "<div>\n<style scoped>\n    .dataframe tbody tr th:only-of-type {\n        vertical-align: middle;\n    }\n\n    .dataframe tbody tr th {\n        vertical-align: top;\n    }\n\n    .dataframe thead th {\n        text-align: right;\n    }\n</style>\n<table border=\"1\" class=\"dataframe\">\n  <thead>\n    <tr style=\"text-align: right;\">\n      <th></th>\n      <th>ranking_category</th>\n      <th>year</th>\n      <th>agency_id</th>\n      <th>points</th>\n    </tr>\n  </thead>\n  <tbody>\n    <tr>\n      <th>0</th>\n      <td>media</td>\n      <td>2019</td>\n      <td>2161</td>\n      <td>201.7</td>\n    </tr>\n    <tr>\n      <th>1</th>\n      <td>media</td>\n      <td>2019</td>\n      <td>3559</td>\n      <td>194.0</td>\n    </tr>\n    <tr>\n      <th>2</th>\n      <td>media</td>\n      <td>2019</td>\n      <td>2273</td>\n      <td>186.0</td>\n    </tr>\n    <tr>\n      <th>3</th>\n      <td>media</td>\n      <td>2019</td>\n      <td>3646</td>\n      <td>182.7</td>\n    </tr>\n    <tr>\n      <th>4</th>\n      <td>media</td>\n      <td>2019</td>\n      <td>2122</td>\n      <td>150.4</td>\n    </tr>\n    <tr>\n      <th>...</th>\n      <td>...</td>\n      <td>...</td>\n      <td>...</td>\n      <td>...</td>\n    </tr>\n    <tr>\n      <th>6358</th>\n      <td>media</td>\n      <td>2018</td>\n      <td>3482</td>\n      <td>3.0</td>\n    </tr>\n    <tr>\n      <th>6359</th>\n      <td>media</td>\n      <td>2018</td>\n      <td>3939</td>\n      <td>3.0</td>\n    </tr>\n    <tr>\n      <th>6360</th>\n      <td>media</td>\n      <td>2018</td>\n      <td>1787</td>\n      <td>2.9</td>\n    </tr>\n    <tr>\n      <th>6361</th>\n      <td>media</td>\n      <td>2018</td>\n      <td>4112</td>\n      <td>2.9</td>\n    </tr>\n    <tr>\n      <th>6362</th>\n      <td>media</td>\n      <td>2018</td>\n      <td>2713</td>\n      <td>2.9</td>\n    </tr>\n  </tbody>\n</table>\n<p>6363 rows × 4 columns</p>\n</div>"
     },
     "metadata": {},
     "execution_count": 242
    }
   ],
   "source": [
    "# create the agency_market_rank dataframe\n",
    "agency_market_rank = merged_df.filter([\"ranking_category\", \"year\", \"id\", \"points\"], axis=1)\n",
    "agency_market_rank = agency_market_rank.rename(columns={'id': \"agency_id\"})\n",
    "agency_market_rank\n"
   ]
  },
  {
   "source": [
    "## Agency Product Category Table\n",
    "This table contains an id for the agency and an id for the product category\n",
    "\n",
    "1. From \"merged_df\" split out the product categories and save each of them as a row along with the \"id\" of the agency.\n",
    "2. Merge these with \"product_categories\" df on the \"name\".\n",
    "2. Drop, Rename and reorder columns."
   ],
   "cell_type": "markdown",
   "metadata": {}
  },
  {
   "cell_type": "code",
   "execution_count": 243,
   "metadata": {},
   "outputs": [
    {
     "output_type": "execute_result",
     "data": {
      "text/plain": [
       "                           name  agency_id\n",
       "0          Household & Domestic       2161\n",
       "1        Toiletries & Cosmetics       2161\n",
       "2                        Retail       3559\n",
       "3                   Soft Drinks       3559\n",
       "4           Transport & Tourism       3559\n",
       "...                         ...        ...\n",
       "10688    Toiletries & Cosmetics       3482\n",
       "10689      Telecoms & Utilities       3939\n",
       "10690  Technology & Electronics       1787\n",
       "10691       Transport & Tourism       4112\n",
       "10692  Technology & Electronics       2713\n",
       "\n",
       "[10693 rows x 2 columns]"
      ],
      "text/html": "<div>\n<style scoped>\n    .dataframe tbody tr th:only-of-type {\n        vertical-align: middle;\n    }\n\n    .dataframe tbody tr th {\n        vertical-align: top;\n    }\n\n    .dataframe thead th {\n        text-align: right;\n    }\n</style>\n<table border=\"1\" class=\"dataframe\">\n  <thead>\n    <tr style=\"text-align: right;\">\n      <th></th>\n      <th>name</th>\n      <th>agency_id</th>\n    </tr>\n  </thead>\n  <tbody>\n    <tr>\n      <th>0</th>\n      <td>Household &amp; Domestic</td>\n      <td>2161</td>\n    </tr>\n    <tr>\n      <th>1</th>\n      <td>Toiletries &amp; Cosmetics</td>\n      <td>2161</td>\n    </tr>\n    <tr>\n      <th>2</th>\n      <td>Retail</td>\n      <td>3559</td>\n    </tr>\n    <tr>\n      <th>3</th>\n      <td>Soft Drinks</td>\n      <td>3559</td>\n    </tr>\n    <tr>\n      <th>4</th>\n      <td>Transport &amp; Tourism</td>\n      <td>3559</td>\n    </tr>\n    <tr>\n      <th>...</th>\n      <td>...</td>\n      <td>...</td>\n    </tr>\n    <tr>\n      <th>10688</th>\n      <td>Toiletries &amp; Cosmetics</td>\n      <td>3482</td>\n    </tr>\n    <tr>\n      <th>10689</th>\n      <td>Telecoms &amp; Utilities</td>\n      <td>3939</td>\n    </tr>\n    <tr>\n      <th>10690</th>\n      <td>Technology &amp; Electronics</td>\n      <td>1787</td>\n    </tr>\n    <tr>\n      <th>10691</th>\n      <td>Transport &amp; Tourism</td>\n      <td>4112</td>\n    </tr>\n    <tr>\n      <th>10692</th>\n      <td>Technology &amp; Electronics</td>\n      <td>2713</td>\n    </tr>\n  </tbody>\n</table>\n<p>10693 rows × 2 columns</p>\n</div>"
     },
     "metadata": {},
     "execution_count": 243
    }
   ],
   "source": [
    "# create a series by concatenating each split value then iterate rows to write df\n",
    "agency_product_category_df = pd.concat([pd.Series(row['id'], row['product_category'].split(','))              \n",
    "    for _, row in merged_df.iterrows()]).reset_index()\n",
    "\n",
    "agency_product_category_df = agency_product_category_df.rename(columns={0:\"agency_id\", \"index\": \"name\"})\n",
    "\n",
    "# strip any leading or trailing spaces\n",
    "agency_product_category_df['name'] = agency_product_category_df['name'].str.strip()\n",
    "\n",
    "agency_product_category_df\n",
    "                    "
   ]
  },
  {
   "cell_type": "code",
   "execution_count": 245,
   "metadata": {},
   "outputs": [
    {
     "output_type": "execute_result",
     "data": {
      "text/plain": [
       "       agency_id  product_category_id\n",
       "0           2161                    5\n",
       "1           2161                   19\n",
       "2           3559                   17\n",
       "3           3559                    8\n",
       "4           3559                    9\n",
       "...          ...                  ...\n",
       "10688       3482                   19\n",
       "10689       3939                   15\n",
       "10690       1787                   11\n",
       "10691       4112                    9\n",
       "10692       2713                   11\n",
       "\n",
       "[10693 rows x 2 columns]"
      ],
      "text/html": "<div>\n<style scoped>\n    .dataframe tbody tr th:only-of-type {\n        vertical-align: middle;\n    }\n\n    .dataframe tbody tr th {\n        vertical-align: top;\n    }\n\n    .dataframe thead th {\n        text-align: right;\n    }\n</style>\n<table border=\"1\" class=\"dataframe\">\n  <thead>\n    <tr style=\"text-align: right;\">\n      <th></th>\n      <th>agency_id</th>\n      <th>product_category_id</th>\n    </tr>\n  </thead>\n  <tbody>\n    <tr>\n      <th>0</th>\n      <td>2161</td>\n      <td>5</td>\n    </tr>\n    <tr>\n      <th>1</th>\n      <td>2161</td>\n      <td>19</td>\n    </tr>\n    <tr>\n      <th>2</th>\n      <td>3559</td>\n      <td>17</td>\n    </tr>\n    <tr>\n      <th>3</th>\n      <td>3559</td>\n      <td>8</td>\n    </tr>\n    <tr>\n      <th>4</th>\n      <td>3559</td>\n      <td>9</td>\n    </tr>\n    <tr>\n      <th>...</th>\n      <td>...</td>\n      <td>...</td>\n    </tr>\n    <tr>\n      <th>10688</th>\n      <td>3482</td>\n      <td>19</td>\n    </tr>\n    <tr>\n      <th>10689</th>\n      <td>3939</td>\n      <td>15</td>\n    </tr>\n    <tr>\n      <th>10690</th>\n      <td>1787</td>\n      <td>11</td>\n    </tr>\n    <tr>\n      <th>10691</th>\n      <td>4112</td>\n      <td>9</td>\n    </tr>\n    <tr>\n      <th>10692</th>\n      <td>2713</td>\n      <td>11</td>\n    </tr>\n  </tbody>\n</table>\n<p>10693 rows × 2 columns</p>\n</div>"
     },
     "metadata": {},
     "execution_count": 245
    }
   ],
   "source": [
    "# merge and clean up\n",
    "# merged_product_category = pd.merge(agency_product_category_df, product_categories, how=\"left\", on=[\"name\"])\n",
    "merged_product_category = merged_product_category.rename(columns={'id': \"product_category_id\"})\n",
    "merged_product_category = merged_product_category.drop(columns=['name'])\n",
    "\n",
    "merged_product_category"
   ]
  },
  {
   "source": [
    "## Brand Market Rank Table\n",
    "1. Import .csv files\n",
    "2. Clean up and add brand id.\n",
    "3. Create product_category id."
   ],
   "cell_type": "markdown",
   "metadata": {}
  },
  {
   "cell_type": "code",
   "execution_count": 246,
   "metadata": {},
   "outputs": [
    {
     "output_type": "execute_result",
     "data": {
      "text/plain": [
       "['2018-media-brands.csv',\n",
       " '2019-effective-brands.csv',\n",
       " '2019-creative-brands.csv',\n",
       " '2018-creative-brands.csv',\n",
       " '2019-media-brands.csv',\n",
       " '2020-effective-brands.csv',\n",
       " '2018-effective-brands.csv',\n",
       " '2020-creative-brands.csv',\n",
       " '2020-media-brands.csv']"
      ]
     },
     "metadata": {},
     "execution_count": 246
    }
   ],
   "source": [
    "# file directory to import from\n",
    "brand_files = os.listdir('../data_tues/brands/')\n",
    "brand_files"
   ]
  },
  {
   "cell_type": "code",
   "execution_count": 250,
   "metadata": {},
   "outputs": [
    {
     "output_type": "execute_result",
     "data": {
      "text/plain": [
       "    ranking_category  year                                  brand  \\\n",
       "0              media  2018                                   Nike   \n",
       "1              media  2018                             McDonald's   \n",
       "2              media  2018                               Snickers   \n",
       "3              media  2018                                   Dove   \n",
       "4              media  2018                                Netflix   \n",
       "..               ...   ...                                    ...   \n",
       "506            media  2020                                Eclipse   \n",
       "507            media  2020                                   BBVA   \n",
       "508            media  2020                                  Gasco   \n",
       "509            media  2020  Asociación Mutual Israelita Argentina   \n",
       "510            media  2020                                   Lidl   \n",
       "\n",
       "                          product_category  points  \n",
       "0                   Clothing & Accessories   297.5  \n",
       "1                                   Retail   263.7  \n",
       "2                                     Food   227.9  \n",
       "3                   Toiletries & Cosmetics   204.5  \n",
       "4                       Media & Publishing   194.5  \n",
       "..                                     ...     ...  \n",
       "506                                   Food     2.1  \n",
       "507                     Financial Services     2.0  \n",
       "508                  Business & Industrial     2.0  \n",
       "509  Non-profit, public sector & education     2.0  \n",
       "510                                 Retail     2.0  \n",
       "\n",
       "[4817 rows x 5 columns]"
      ],
      "text/html": "<div>\n<style scoped>\n    .dataframe tbody tr th:only-of-type {\n        vertical-align: middle;\n    }\n\n    .dataframe tbody tr th {\n        vertical-align: top;\n    }\n\n    .dataframe thead th {\n        text-align: right;\n    }\n</style>\n<table border=\"1\" class=\"dataframe\">\n  <thead>\n    <tr style=\"text-align: right;\">\n      <th></th>\n      <th>ranking_category</th>\n      <th>year</th>\n      <th>brand</th>\n      <th>product_category</th>\n      <th>points</th>\n    </tr>\n  </thead>\n  <tbody>\n    <tr>\n      <th>0</th>\n      <td>media</td>\n      <td>2018</td>\n      <td>Nike</td>\n      <td>Clothing &amp; Accessories</td>\n      <td>297.5</td>\n    </tr>\n    <tr>\n      <th>1</th>\n      <td>media</td>\n      <td>2018</td>\n      <td>McDonald's</td>\n      <td>Retail</td>\n      <td>263.7</td>\n    </tr>\n    <tr>\n      <th>2</th>\n      <td>media</td>\n      <td>2018</td>\n      <td>Snickers</td>\n      <td>Food</td>\n      <td>227.9</td>\n    </tr>\n    <tr>\n      <th>3</th>\n      <td>media</td>\n      <td>2018</td>\n      <td>Dove</td>\n      <td>Toiletries &amp; Cosmetics</td>\n      <td>204.5</td>\n    </tr>\n    <tr>\n      <th>4</th>\n      <td>media</td>\n      <td>2018</td>\n      <td>Netflix</td>\n      <td>Media &amp; Publishing</td>\n      <td>194.5</td>\n    </tr>\n    <tr>\n      <th>...</th>\n      <td>...</td>\n      <td>...</td>\n      <td>...</td>\n      <td>...</td>\n      <td>...</td>\n    </tr>\n    <tr>\n      <th>506</th>\n      <td>media</td>\n      <td>2020</td>\n      <td>Eclipse</td>\n      <td>Food</td>\n      <td>2.1</td>\n    </tr>\n    <tr>\n      <th>507</th>\n      <td>media</td>\n      <td>2020</td>\n      <td>BBVA</td>\n      <td>Financial Services</td>\n      <td>2.0</td>\n    </tr>\n    <tr>\n      <th>508</th>\n      <td>media</td>\n      <td>2020</td>\n      <td>Gasco</td>\n      <td>Business &amp; Industrial</td>\n      <td>2.0</td>\n    </tr>\n    <tr>\n      <th>509</th>\n      <td>media</td>\n      <td>2020</td>\n      <td>Asociación Mutual Israelita Argentina</td>\n      <td>Non-profit, public sector &amp; education</td>\n      <td>2.0</td>\n    </tr>\n    <tr>\n      <th>510</th>\n      <td>media</td>\n      <td>2020</td>\n      <td>Lidl</td>\n      <td>Retail</td>\n      <td>2.0</td>\n    </tr>\n  </tbody>\n</table>\n<p>4817 rows × 5 columns</p>\n</div>"
     },
     "metadata": {},
     "execution_count": 250
    }
   ],
   "source": [
    "# function to import data from csv and add columns for year and category from file name\n",
    "def load_files(filenames):\n",
    "    regex = re.compile(r'^(\\d{4})-(\\w+)-brands\\.csv$')\n",
    "    matches = [m for m in map(regex.match, filenames) if m is not None]\n",
    "\n",
    "    for match in matches:\n",
    "\t    yield (\n",
    "            pd.read_csv('../data_tues/brands/' + match.group(0))\n",
    "            .assign(year=match.group(1), ranking_category=match.group(2)) \n",
    "            .astype({'year': 'int', 'ranking_category': 'string'}) \n",
    "        )\n",
    "\t\t\n",
    "brands_data = pd.concat(load_files(brand_files))\n",
    "brands_data = brands_data.rename(columns={'Brand': \"brand\", 'Product Category': 'product_category', \"Points\": \"points\"})\n",
    "\n",
    "brands_data = brands_data.filter([\"ranking_category\", \"year\", \"brand\", \"product_category\", \"points\"], axis=1)\n",
    "\n",
    "brands_data = brands_data.dropna(subset=['brand'])\n",
    "\n",
    "\n",
    "brands_data"
   ]
  },
  {
   "cell_type": "code",
   "execution_count": 253,
   "metadata": {},
   "outputs": [
    {
     "output_type": "execute_result",
     "data": {
      "text/plain": [
       "     ranking_category  year                                  brand  \\\n",
       "0               media  2018                                   Nike   \n",
       "1               media  2018                             McDonald's   \n",
       "2               media  2018                               Snickers   \n",
       "3               media  2018                                   Dove   \n",
       "4               media  2018                                Netflix   \n",
       "...               ...   ...                                    ...   \n",
       "4812            media  2020                                Eclipse   \n",
       "4813            media  2020                                   BBVA   \n",
       "4814            media  2020                                  Gasco   \n",
       "4815            media  2020  Asociación Mutual Israelita Argentina   \n",
       "4816            media  2020                                   Lidl   \n",
       "\n",
       "      product_category_id  points  \n",
       "0                     4.0   297.5  \n",
       "1                    17.0   263.7  \n",
       "2                     2.0   227.9  \n",
       "3                    19.0   204.5  \n",
       "4                    12.0   194.5  \n",
       "...                   ...     ...  \n",
       "4812                  2.0     2.1  \n",
       "4813                 14.0     2.0  \n",
       "4814                 20.0     2.0  \n",
       "4815                  NaN     2.0  \n",
       "4816                 17.0     2.0  \n",
       "\n",
       "[4817 rows x 5 columns]"
      ],
      "text/html": "<div>\n<style scoped>\n    .dataframe tbody tr th:only-of-type {\n        vertical-align: middle;\n    }\n\n    .dataframe tbody tr th {\n        vertical-align: top;\n    }\n\n    .dataframe thead th {\n        text-align: right;\n    }\n</style>\n<table border=\"1\" class=\"dataframe\">\n  <thead>\n    <tr style=\"text-align: right;\">\n      <th></th>\n      <th>ranking_category</th>\n      <th>year</th>\n      <th>brand</th>\n      <th>product_category_id</th>\n      <th>points</th>\n    </tr>\n  </thead>\n  <tbody>\n    <tr>\n      <th>0</th>\n      <td>media</td>\n      <td>2018</td>\n      <td>Nike</td>\n      <td>4.0</td>\n      <td>297.5</td>\n    </tr>\n    <tr>\n      <th>1</th>\n      <td>media</td>\n      <td>2018</td>\n      <td>McDonald's</td>\n      <td>17.0</td>\n      <td>263.7</td>\n    </tr>\n    <tr>\n      <th>2</th>\n      <td>media</td>\n      <td>2018</td>\n      <td>Snickers</td>\n      <td>2.0</td>\n      <td>227.9</td>\n    </tr>\n    <tr>\n      <th>3</th>\n      <td>media</td>\n      <td>2018</td>\n      <td>Dove</td>\n      <td>19.0</td>\n      <td>204.5</td>\n    </tr>\n    <tr>\n      <th>4</th>\n      <td>media</td>\n      <td>2018</td>\n      <td>Netflix</td>\n      <td>12.0</td>\n      <td>194.5</td>\n    </tr>\n    <tr>\n      <th>...</th>\n      <td>...</td>\n      <td>...</td>\n      <td>...</td>\n      <td>...</td>\n      <td>...</td>\n    </tr>\n    <tr>\n      <th>4812</th>\n      <td>media</td>\n      <td>2020</td>\n      <td>Eclipse</td>\n      <td>2.0</td>\n      <td>2.1</td>\n    </tr>\n    <tr>\n      <th>4813</th>\n      <td>media</td>\n      <td>2020</td>\n      <td>BBVA</td>\n      <td>14.0</td>\n      <td>2.0</td>\n    </tr>\n    <tr>\n      <th>4814</th>\n      <td>media</td>\n      <td>2020</td>\n      <td>Gasco</td>\n      <td>20.0</td>\n      <td>2.0</td>\n    </tr>\n    <tr>\n      <th>4815</th>\n      <td>media</td>\n      <td>2020</td>\n      <td>Asociación Mutual Israelita Argentina</td>\n      <td>NaN</td>\n      <td>2.0</td>\n    </tr>\n    <tr>\n      <th>4816</th>\n      <td>media</td>\n      <td>2020</td>\n      <td>Lidl</td>\n      <td>17.0</td>\n      <td>2.0</td>\n    </tr>\n  </tbody>\n</table>\n<p>4817 rows × 5 columns</p>\n</div>"
     },
     "metadata": {},
     "execution_count": 253
    }
   ],
   "source": [
    "# merge in the product category id and drop the product category column\n",
    "# strip any leading or trailing spaces\n",
    "brands_data['name'] = brands_data['product_category'].str.strip()\n",
    "\n",
    "# merge tables\n",
    "merged_brands_df = pd.merge(brands_data, product_categories, how=\"left\", left_on=[\"product_category\"], right_on=[\"name\"])\n",
    "\n",
    "merged_brands_df = merged_brands_df.rename(columns={'id': \"product_category_id\"})\n",
    "\n",
    "merged_brands_df = merged_brands_df.filter([\"ranking_category\", \"year\", \"brand\", \"product_category_id\", \"points\"], axis=1)\n",
    "\n",
    "merged_brands_df"
   ]
  },
  {
   "cell_type": "code",
   "execution_count": null,
   "metadata": {},
   "outputs": [],
   "source": []
  }
 ]
}